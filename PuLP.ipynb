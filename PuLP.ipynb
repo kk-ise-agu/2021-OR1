{
 "metadata": {
  "language_info": {
   "codemirror_mode": {
    "name": "ipython",
    "version": 3
   },
   "file_extension": ".py",
   "mimetype": "text/x-python",
   "name": "python",
   "nbconvert_exporter": "python",
   "pygments_lexer": "ipython3",
   "version": "3.8.3-final"
  },
  "orig_nbformat": 2,
  "kernelspec": {
   "name": "python3",
   "display_name": "Python 3.8.3 64-bit ('anaconda3': virtualenv)",
   "metadata": {
    "interpreter": {
     "hash": "bfe5c627894c95d882a0caaddc13e5531657d9be01ea4f8fd1bbdb391ada7a33"
    }
   }
  }
 },
 "nbformat": 4,
 "nbformat_minor": 2,
 "cells": [
  {
   "source": [
    "# 最適化におけるPython\n",
    "\n",
    "参照ページ [最適化におけるPython]https://qiita.com/SaitoTsutomu/items/070ca9cb37c6b2b492f0\n",
    "\n",
    "線形計画問題や整数計画問題を計算機（コンピュータ）を用いて解くには，Pythonというプログミング言語を用いると便利である．\n",
    "\n",
    "Pythonには，豊富にバッケージ（ライブラリ）が存在し，それらを利用することで容易に目的のプログラムを作成することができるからである．\n",
    "\n",
    "## メリット\n",
    "\n",
    "- Pythonを利用すると，数式によるモデルに近い形でプログラムを書くことができる．\n",
    "\n",
    "最適化モデル\n",
    "\n",
    "$$\n",
    "\\begin{array}{ll}\n",
    "目的関数:& -3x_1-2x_2 \\rightarrow　最小化\\\\\n",
    "制約条件:&2x_1+x_2 \\leq 3\\\\\n",
    "&x_1,x_2 \\geq 0\n",
    "\\end{array}\n",
    "$$\n",
    "\n",
    "Pythonによる表現\n",
    "```python \n",
    "from pulp import *\n",
    "m = LpProblem() #最小化\n",
    "x1=LpVariable('x1',lowBound=0)\n",
    "x2=LpVariable('x2',lowBound=0)\n",
    "m+=-3*x1-2*x2 #目的関数\n",
    "m+=2*x1+x2<=3 #制約条件\n",
    "```\n",
    "\n",
    "- 短い記述量ですむ\n",
    "\n",
    "- 学習コストが小さい\n",
    "\n",
    "- Pythonで完結できる．種々の目的の処理がほぼPythonで記述できる\n"
   ],
   "cell_type": "markdown",
   "metadata": {}
  },
  {
   "source": [
    "## PuLP\n",
    "\n",
    "数理最適化問題を解くには，以下のステップを行います．\n",
    "\n",
    "- モデラーで数理モデルを作成する．\n",
    "- ソルバーを呼び出して，解を得る．\n",
    "\n",
    "ソルバーは数理モデルを入力とし，数理モデルを解いて得られた変数の値（解）を出力とするソフトウェアである．例えば，実際に単体法を実行して最適解を計算するソフトウェアは，このソルバーの例である．\n"
   ],
   "cell_type": "markdown",
   "metadata": {}
  },
  {
   "cell_type": "code",
   "execution_count": 5,
   "metadata": {},
   "outputs": [
    {
     "output_type": "execute_result",
     "data": {
      "text/html": "<img src=\"https://camo.qiitausercontent.com/ee3dbaa5279c061c0b794e92c1795aad448e9ab5/68747470733a2f2f71696974612d696d6167652d73746f72652e73332e616d617a6f6e6177732e636f6d2f302f31333935352f64663630353732362d646264312d636635622d363332622d3663366234383365613065662e706e67\"/>",
      "text/plain": [
       "<IPython.core.display.Image object>"
      ]
     },
     "metadata": {},
     "execution_count": 5
    }
   ],
   "source": []
  },
  {
   "source": [
    "PuLPはモデラーの１つである．PuLPでは，ソルバーとして，様々なものが使える．ここではそのうち，PuLPをインストールすると同時にインストールされるCBCを用いる．\n",
    "https://projects.coin-or.org/Cbc\n",
    "\n",
    "PuLPで扱うことができる問題は，混合整数最適化問題である．\n",
    "\n",
    "## PuLPの使い方\n",
    "\n",
    "下記の問題を取り上げる．\n",
    "\n",
    "問題: \n",
    "\n",
    "材料Aとbから合成できる化学製品XとYをたくさん作成したい．\n",
    "\n",
    "Xを1kg作るのに，Aが1kg，Bが3kg必要であり，Yを1kg作るのに，Aが2kg，Bが1kg必要である．\n",
    "\n",
    "また，XもYも1kgあたりの価格は，100円である．\n",
    "\n",
    "材料Aは16kg，Bは18kgしかないときに，XとYの価格の合計が最大になるようにするには，XとYをそれぞれどれだけ作成すればよいか求めよ．\n"
   ],
   "cell_type": "markdown",
   "metadata": {}
  },
  {
   "cell_type": "code",
   "execution_count": 7,
   "metadata": {},
   "outputs": [
    {
     "output_type": "execute_result",
     "data": {
      "text/html": "<img src=\"https://camo.qiitausercontent.com/59dc2e628170d1d106c26b474393a34cb92f9a65/68747470733a2f2f71696974612d696d6167652d73746f72652e73332e61702d6e6f727468656173742d312e616d617a6f6e6177732e636f6d2f302f31333935352f62613666346465382d643734622d633937642d633462622d3865356535323332643433312e706e67\"/>",
      "text/plain": [
       "<IPython.core.display.Image object>"
      ]
     },
     "metadata": {},
     "execution_count": 7
    }
   ],
   "source": [
    "Image(url=\"https://camo.qiitausercontent.com/59dc2e628170d1d106c26b474393a34cb92f9a65/68747470733a2f2f71696974612d696d6167652d73746f72652e73332e61702d6e6f727468656173742d312e616d617a6f6e6177732e636f6d2f302f31333935352f62613666346465382d643734622d633937642d633462622d3865356535323332643433312e706e67\")"
   ]
  },
  {
   "source": [
    "線形計画問題として表すと，次のようになる．\n",
    "\n",
    "$$\n",
    "\\begin{array}{ll}\n",
    "目的関数:& 100x+100y \\rightarrow　最大化\\\\\n",
    "制約条件:&x+2y \\leq 16\\\\\n",
    "&3x+y\\leq 18\\\\\n",
    "&x,y \\geq 0\n",
    "\\end{array}\n",
    "$$"
   ],
   "cell_type": "markdown",
   "metadata": {}
  },
  {
   "cell_type": "code",
   "execution_count": 8,
   "metadata": {},
   "outputs": [
    {
     "output_type": "stream",
     "name": "stdout",
     "text": [
      "4.0 6.0\n"
     ]
    }
   ],
   "source": [
    "from pulp import *\n",
    "m = LpProblem(sense=LpMaximize) #数理モデル\n",
    "x = LpVariable('x', lowBound=0) #変数\n",
    "y = LpVariable('y', lowBound=0) #変数\n",
    "m += 100 * x + 100 * y #目的関数\n",
    "m += x + 2 * y <= 16 #材料Aの上限の制約条件\n",
    "m += 3*x + y <= 18 #材料Bの上限の制約条件\n",
    "m.solve() #ソルバーを実行して問題を解く\n",
    "print(value(x),value(y)) #最適解の表示．．"
   ]
  },
  {
   "source": [
    "最適解として，$x=4,y=6$が得られた。\n",
    "\n",
    "ここで用いたプログラムで実行する内容は，次のとおりである．\n",
    "\n",
    "### パッケージのインポート\n",
    "```python\n",
    "from pulp import *\n",
    "```\n",
    "PuLPパッケージをインポートして，機能を使えるようにする．\n",
    "\n",
    "### 数理モデルの作成\n",
    "\n",
    "```python \n",
    "#最小化問題のとき: \n",
    "m = LpProblem()\n",
    "\n",
    "#最大化問題のとき:\n",
    "m = LpProblem(sense=LpMaximize)\n",
    "```\n",
    "\n",
    "### 変数の作成\n",
    "```python\n",
    "#連続変数\n",
    "x = LpVariable(変数名, lowBound=0)\n",
    "\n",
    "#0-1変数\n",
    "x = LpVariable(変数名, cat=LpBinary)\n",
    "\n",
    "#連続変数のリスト\n",
    "x = [LpVariable(i番目の変数名, lowBound=0) for i in range(n)]\n",
    "```\n",
    "\n",
    "### 目的関数の設定\n",
    "\n",
    "```python\n",
    "m += 式\n",
    "```\n",
    "\n",
    "### 制約条件の追加\n",
    "\n",
    "```python\n",
    "m += 式 == 式\n",
    "m += 式 <= 式 \n",
    "m += 式 >= 式 \n",
    "```\n",
    "\n",
    "### 式の例\n",
    "```python \n",
    "2 * x + 3 * y - 5 \n",
    "\n",
    "#和 \n",
    "lpSum(変数のリスト)\n",
    "\n",
    "#内積 \n",
    "lpDot(係数のリスト，変数のリスト)\n",
    "```\n",
    "### ソルバーの実行\n",
    "```python \n",
    "m.solve()\n",
    "```\n",
    "\n",
    "### 変数や式や目的関数の値\n",
    "```python \n",
    "value(変数),value(式),value(m.objective)\n",
    "```"
   ],
   "cell_type": "markdown",
   "metadata": {}
  },
  {
   "cell_type": "code",
   "execution_count": null,
   "metadata": {},
   "outputs": [],
   "source": []
  }
 ]
}