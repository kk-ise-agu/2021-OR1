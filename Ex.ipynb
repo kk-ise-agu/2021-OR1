{
 "cells": [
  {
   "cell_type": "markdown",
   "id": "union-month",
   "metadata": {},
   "source": [
    "第14回レポート \n",
    "学生番号: 氏名: "
   ]
  },
  {
   "cell_type": "markdown",
   "id": "otherwise-willow",
   "metadata": {},
   "source": [
    "次の問題を線形計画問題に定式化し，PuLPでモデル化して最適解を求めてください．　プログラムだけではなく，定式化の過程とその結果得られた線形計画問題を数式で明記してください．\n",
    "\n",
    "問題: あるスーパーでは，毎日直接農家から3種類の果物，オレンジ，りんご，ぶどうを仕入れて，３種類のミックスジュースA,B,Cを製造・販売している．　原料である果物は１日あたりそれぞれオレンジ60kg，りんご36kg，ぶどう48kg仕入れることができる．　ミックスジュースAを1リットル作るには，オレンジ，りんごがそれぞれ3kg，1kg必要で，ミックスジュースBを1リットル作るには， オレンジ，りんご，ぶどうがそれぞれ1kg，3kg，2kg必要で，ミックスジュースCを1リットル作るには，オレンジ，ぶどうがそれぞれ2kg，4kg必要である． 製造されたミックスジュースは，1リットルあたりそれぞれ，150円，200円，３００円で売れていく．販売利益を最大にするには，３種類の製品を1日にどれだけ生産すればよいか．"
   ]
  },
  {
   "cell_type": "markdown",
   "id": "missing-catalog",
   "metadata": {},
   "source": [
    "解答: （このセルに，定式化の説明をしてください）\n",
    "\n",
    "この問題における，，，，，，"
   ]
  },
  {
   "cell_type": "code",
   "execution_count": null,
   "id": "artistic-albert",
   "metadata": {},
   "outputs": [],
   "source": [
    "#このセルに，プログラムを記述してください．"
   ]
  },
  {
   "cell_type": "markdown",
   "id": "driving-bachelor",
   "metadata": {},
   "source": [
    "考察: （このセルに，作成したプログラムと実行結果の考察を記述してください）"
   ]
  }
 ],
 "metadata": {
  "kernelspec": {
   "display_name": "Python 3",
   "language": "python",
   "name": "python3"
  },
  "language_info": {
   "codemirror_mode": {
    "name": "ipython",
    "version": 3
   },
   "file_extension": ".py",
   "mimetype": "text/x-python",
   "name": "python",
   "nbconvert_exporter": "python",
   "pygments_lexer": "ipython3",
   "version": "3.8.3"
  }
 },
 "nbformat": 4,
 "nbformat_minor": 5
}
